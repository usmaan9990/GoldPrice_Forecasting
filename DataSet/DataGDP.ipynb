{
 "cells": [
  {
   "cell_type": "code",
   "execution_count": 1,
   "id": "c81f9eee-5134-473a-a633-02e6419d9c48",
   "metadata": {},
   "outputs": [],
   "source": [
    "import pandas as pd\n",
    "import numpy as np"
   ]
  },
  {
   "cell_type": "markdown",
   "id": "783b79b5-9fac-4687-8384-e8db98768f57",
   "metadata": {},
   "source": [
    "### Data Collection for Sri Lanka GDP\n",
    "To collect GDP rate of Sri Lanka, I get the data manually from central bank of Sri lanka website.\n",
    "\n",
    "Links; \n",
    "\n",
    "https://www.cbsl.gov.lk/en/economic-and-statistical-charts/gdp-growth-chart\n",
    "\n",
    "\n",
    "https://www.cbsl.gov.lk/sites/default/files/cbslweb_documents/statistics/mei/MEI_202503_e.pdf"
   ]
  },
  {
   "cell_type": "code",
   "execution_count": 2,
   "id": "1cbe3971-c471-4bb4-8b51-ed228e14508e",
   "metadata": {},
   "outputs": [],
   "source": [
    "data = {\n",
    "    \"Date\" : [\"2016 Q1\", \"2016 Q2\", \"2016 Q3\", \"2016 Q4\",\"2017 Q1\", \"2017 Q2\", \"2017 Q3\", \"2017 Q4\",\n",
    "             \"2018 Q1\", \"2018 Q2\", \"2018 Q3\", \"2018 Q4\",\"2019 Q1\",\"2019 Q2\",\"2019 Q3\",\"2019 Q4\",\n",
    "             \"2020 Q1\",\"2020 Q2\",\"2020 Q3\", \"2020 Q4\",\"2021 Q1\",\"2021 Q2\",\"2021 Q3\",\"2021 Q4\",\n",
    "             \"2022 Q1\",\"2022 Q2\",\"2022 Q3\",\"2022 Q4\",\"2023 Q1\",\"2023 Q2\",\"2023 Q3\",\"2023 Q4\",\n",
    "             \"2024 Q1\",\"2024 Q2\",\"2024 Q3\",\"2024 Q4\"],\n",
    "    \"GDP\" : [6.7,4.4,2.9,6.2,7.3,4.3,6.0,8.0,3.7,5.2,4.4,-3.5,-0.1,-1.8,1.2,-0.3,-0.9,-17.1,-1.1,-0.5,\n",
    "            5.2,13.2,-2.1,2.7,-0.6,-5.3,-11.2,-12.4,-10.7,-3.0,1.6,4.5,5.3,4.7,5.5, 5.4]\n",
    "    \n",
    "}\n",
    "\n",
    "df = pd.DataFrame(data)"
   ]
  },
  {
   "cell_type": "code",
   "execution_count": 6,
   "id": "0c05cc53-1161-4fb4-a701-31e95577b5be",
   "metadata": {},
   "outputs": [
    {
     "data": {
      "text/plain": [
       "(36, 2)"
      ]
     },
     "execution_count": 6,
     "metadata": {},
     "output_type": "execute_result"
    }
   ],
   "source": [
    "df.shape"
   ]
  },
  {
   "cell_type": "code",
   "execution_count": null,
   "id": "0963ff54-88a4-46e5-9c9e-f2706a886c6d",
   "metadata": {},
   "outputs": [],
   "source": []
  },
  {
   "cell_type": "code",
   "execution_count": null,
   "id": "f056fd44-7a72-48a1-9409-95aaf9e8644b",
   "metadata": {},
   "outputs": [],
   "source": []
  },
  {
   "cell_type": "code",
   "execution_count": null,
   "id": "b56b8db1-9d6e-41c8-9343-61db140feebc",
   "metadata": {},
   "outputs": [],
   "source": []
  },
  {
   "cell_type": "code",
   "execution_count": null,
   "id": "f208d4d6-0de3-41ec-92bc-324c941418c0",
   "metadata": {},
   "outputs": [],
   "source": []
  }
 ],
 "metadata": {
  "kernelspec": {
   "display_name": "Python 3 (ipykernel)",
   "language": "python",
   "name": "python3"
  },
  "language_info": {
   "codemirror_mode": {
    "name": "ipython",
    "version": 3
   },
   "file_extension": ".py",
   "mimetype": "text/x-python",
   "name": "python",
   "nbconvert_exporter": "python",
   "pygments_lexer": "ipython3",
   "version": "3.11.7"
  }
 },
 "nbformat": 4,
 "nbformat_minor": 5
}
