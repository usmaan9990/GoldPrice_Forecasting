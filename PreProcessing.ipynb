{
 "cells": [
  {
   "cell_type": "code",
   "execution_count": 1,
   "id": "b090352f-6ec5-4bf0-83c5-0867da268b3d",
   "metadata": {},
   "outputs": [],
   "source": [
    "import os \n",
    "import warnings\n",
    "warnings.filterwarnings(\"ignore\")\n",
    "import numpy as np \n",
    "import pandas as pd\n",
    "from matplotlib import pyplot as plt\n",
    "import datetime as dt"
   ]
  },
  {
   "cell_type": "markdown",
   "id": "6cc72ec7-1222-4fc0-b42f-5b162fbb04fb",
   "metadata": {},
   "source": [
    "# Gold DataSet"
   ]
  },
  {
   "cell_type": "code",
   "execution_count": 2,
   "id": "6073493d-81fe-4226-bc94-4dc75574ce35",
   "metadata": {},
   "outputs": [
    {
     "data": {
      "text/html": [
       "<div>\n",
       "<style scoped>\n",
       "    .dataframe tbody tr th:only-of-type {\n",
       "        vertical-align: middle;\n",
       "    }\n",
       "\n",
       "    .dataframe tbody tr th {\n",
       "        vertical-align: top;\n",
       "    }\n",
       "\n",
       "    .dataframe thead th {\n",
       "        text-align: right;\n",
       "    }\n",
       "</style>\n",
       "<table border=\"1\" class=\"dataframe\">\n",
       "  <thead>\n",
       "    <tr style=\"text-align: right;\">\n",
       "      <th></th>\n",
       "      <th>0</th>\n",
       "      <th>1</th>\n",
       "    </tr>\n",
       "  </thead>\n",
       "  <tbody>\n",
       "    <tr>\n",
       "      <th>0</th>\n",
       "      <td>Date</td>\n",
       "      <td>Gold Price per Gram</td>\n",
       "    </tr>\n",
       "    <tr>\n",
       "      <th>1</th>\n",
       "      <td>Current Price</td>\n",
       "      <td>31588.4 LKR</td>\n",
       "    </tr>\n",
       "    <tr>\n",
       "      <th>2</th>\n",
       "      <td>29-Apr-2025</td>\n",
       "      <td>31901.6  LKR</td>\n",
       "    </tr>\n",
       "    <tr>\n",
       "      <th>3</th>\n",
       "      <td>28-Apr-2025</td>\n",
       "      <td>32157.5  LKR</td>\n",
       "    </tr>\n",
       "    <tr>\n",
       "      <th>4</th>\n",
       "      <td>27-Apr-2025</td>\n",
       "      <td>31880.4  LKR</td>\n",
       "    </tr>\n",
       "  </tbody>\n",
       "</table>\n",
       "</div>"
      ],
      "text/plain": [
       "               0                    1\n",
       "0           Date  Gold Price per Gram\n",
       "1  Current Price          31588.4 LKR\n",
       "2    29-Apr-2025         31901.6  LKR\n",
       "3    28-Apr-2025         32157.5  LKR\n",
       "4    27-Apr-2025         31880.4  LKR"
      ]
     },
     "execution_count": 2,
     "metadata": {},
     "output_type": "execute_result"
    }
   ],
   "source": [
    "dfG = pd.read_csv(r\"C:\\Users\\Dell\\OneDrive\\My_UNI\\Projects\\PrLSTM\\DataSet\\Gold.csv\")\n",
    "dfG.head()"
   ]
  },
  {
   "cell_type": "code",
   "execution_count": 3,
   "id": "f2d200e6-1ecc-468a-9f29-98962c25e92d",
   "metadata": {},
   "outputs": [],
   "source": [
    "dfG.columns = dfG.iloc[0]"
   ]
  },
  {
   "cell_type": "code",
   "execution_count": 4,
   "id": "9090e8bf-bc01-4f74-8fb5-245564fe7a14",
   "metadata": {},
   "outputs": [],
   "source": [
    "dfG.drop([0,1], inplace=True)"
   ]
  },
  {
   "cell_type": "code",
   "execution_count": 5,
   "id": "1c003b5b-5546-4fe3-9c39-f66873990cf2",
   "metadata": {},
   "outputs": [
    {
     "data": {
      "text/html": [
       "<div>\n",
       "<style scoped>\n",
       "    .dataframe tbody tr th:only-of-type {\n",
       "        vertical-align: middle;\n",
       "    }\n",
       "\n",
       "    .dataframe tbody tr th {\n",
       "        vertical-align: top;\n",
       "    }\n",
       "\n",
       "    .dataframe thead th {\n",
       "        text-align: right;\n",
       "    }\n",
       "</style>\n",
       "<table border=\"1\" class=\"dataframe\">\n",
       "  <thead>\n",
       "    <tr style=\"text-align: right;\">\n",
       "      <th></th>\n",
       "      <th>Date</th>\n",
       "      <th>Gold Price per Gram</th>\n",
       "    </tr>\n",
       "  </thead>\n",
       "  <tbody>\n",
       "    <tr>\n",
       "      <th>2</th>\n",
       "      <td>29-Apr-2025</td>\n",
       "      <td>31901.6  LKR</td>\n",
       "    </tr>\n",
       "    <tr>\n",
       "      <th>3</th>\n",
       "      <td>28-Apr-2025</td>\n",
       "      <td>32157.5  LKR</td>\n",
       "    </tr>\n",
       "    <tr>\n",
       "      <th>4</th>\n",
       "      <td>27-Apr-2025</td>\n",
       "      <td>31880.4  LKR</td>\n",
       "    </tr>\n",
       "    <tr>\n",
       "      <th>5</th>\n",
       "      <td>26-Apr-2025</td>\n",
       "      <td>31880.4  LKR</td>\n",
       "    </tr>\n",
       "    <tr>\n",
       "      <th>6</th>\n",
       "      <td>25-Apr-2025</td>\n",
       "      <td>31880.4  LKR</td>\n",
       "    </tr>\n",
       "  </tbody>\n",
       "</table>\n",
       "</div>"
      ],
      "text/plain": [
       "0         Date Gold Price per Gram\n",
       "2  29-Apr-2025        31901.6  LKR\n",
       "3  28-Apr-2025        32157.5  LKR\n",
       "4  27-Apr-2025        31880.4  LKR\n",
       "5  26-Apr-2025        31880.4  LKR\n",
       "6  25-Apr-2025        31880.4  LKR"
      ]
     },
     "execution_count": 5,
     "metadata": {},
     "output_type": "execute_result"
    }
   ],
   "source": [
    "dfG.head()"
   ]
  },
  {
   "cell_type": "code",
   "execution_count": 6,
   "id": "49a58b36-f108-4df3-8b53-c0501d9c1c53",
   "metadata": {},
   "outputs": [],
   "source": [
    "dfG['Date'] = pd.to_datetime(dfG['Date']).dt.date"
   ]
  },
  {
   "cell_type": "code",
   "execution_count": 7,
   "id": "2f1e40dc-efdc-4440-96bc-158ceedb1914",
   "metadata": {},
   "outputs": [
    {
     "data": {
      "text/plain": [
       "Index(['Date', 'Gold Price per Gram'], dtype='object', name=0)"
      ]
     },
     "execution_count": 7,
     "metadata": {},
     "output_type": "execute_result"
    }
   ],
   "source": [
    "dfG.columns"
   ]
  },
  {
   "cell_type": "code",
   "execution_count": 8,
   "id": "3d2384cc-2a33-4445-be79-64215747c392",
   "metadata": {},
   "outputs": [],
   "source": [
    "dfG.rename(columns ={'Gold Price per Gram':'GoldPricePerGram'}, inplace=True)"
   ]
  },
  {
   "cell_type": "code",
   "execution_count": 9,
   "id": "87d70f21-6c14-4ce4-9283-4194b3abc6c2",
   "metadata": {},
   "outputs": [],
   "source": [
    "dfG[\"GoldPricePerGram\"] = dfG[\"GoldPricePerGram\"].str.replace(r\" LKR\",\"\",regex=True).astype(float)"
   ]
  },
  {
   "cell_type": "code",
   "execution_count": 10,
   "id": "d2e3339d-3da1-4ada-9b75-7de9048029f6",
   "metadata": {},
   "outputs": [
    {
     "data": {
      "text/plain": [
       "0\n",
       "Date                0\n",
       "GoldPricePerGram    0\n",
       "dtype: int64"
      ]
     },
     "execution_count": 10,
     "metadata": {},
     "output_type": "execute_result"
    }
   ],
   "source": [
    "dfG.isnull().sum()"
   ]
  },
  {
   "cell_type": "code",
   "execution_count": 11,
   "id": "b436175d-cf4f-4718-9813-1bc3f5458925",
   "metadata": {},
   "outputs": [
    {
     "data": {
      "text/html": [
       "<div>\n",
       "<style scoped>\n",
       "    .dataframe tbody tr th:only-of-type {\n",
       "        vertical-align: middle;\n",
       "    }\n",
       "\n",
       "    .dataframe tbody tr th {\n",
       "        vertical-align: top;\n",
       "    }\n",
       "\n",
       "    .dataframe thead th {\n",
       "        text-align: right;\n",
       "    }\n",
       "</style>\n",
       "<table border=\"1\" class=\"dataframe\">\n",
       "  <thead>\n",
       "    <tr style=\"text-align: right;\">\n",
       "      <th></th>\n",
       "      <th>Date</th>\n",
       "      <th>GoldPricePerGram</th>\n",
       "    </tr>\n",
       "  </thead>\n",
       "  <tbody>\n",
       "    <tr>\n",
       "      <th>2</th>\n",
       "      <td>2025-04-29</td>\n",
       "      <td>31901.6</td>\n",
       "    </tr>\n",
       "    <tr>\n",
       "      <th>3</th>\n",
       "      <td>2025-04-28</td>\n",
       "      <td>32157.5</td>\n",
       "    </tr>\n",
       "    <tr>\n",
       "      <th>4</th>\n",
       "      <td>2025-04-27</td>\n",
       "      <td>31880.4</td>\n",
       "    </tr>\n",
       "    <tr>\n",
       "      <th>5</th>\n",
       "      <td>2025-04-26</td>\n",
       "      <td>31880.4</td>\n",
       "    </tr>\n",
       "    <tr>\n",
       "      <th>6</th>\n",
       "      <td>2025-04-25</td>\n",
       "      <td>31880.4</td>\n",
       "    </tr>\n",
       "  </tbody>\n",
       "</table>\n",
       "</div>"
      ],
      "text/plain": [
       "0        Date  GoldPricePerGram\n",
       "2  2025-04-29           31901.6\n",
       "3  2025-04-28           32157.5\n",
       "4  2025-04-27           31880.4\n",
       "5  2025-04-26           31880.4\n",
       "6  2025-04-25           31880.4"
      ]
     },
     "execution_count": 11,
     "metadata": {},
     "output_type": "execute_result"
    }
   ],
   "source": [
    "dfG.head()"
   ]
  },
  {
   "cell_type": "markdown",
   "id": "044732fd-49f0-4260-a300-697f0d384d57",
   "metadata": {},
   "source": [
    "# Petrol Data"
   ]
  },
  {
   "cell_type": "code",
   "execution_count": 12,
   "id": "b70c0ece-dacc-473a-b1ba-08adbcb115f0",
   "metadata": {},
   "outputs": [
    {
     "data": {
      "text/html": [
       "<div>\n",
       "<style scoped>\n",
       "    .dataframe tbody tr th:only-of-type {\n",
       "        vertical-align: middle;\n",
       "    }\n",
       "\n",
       "    .dataframe tbody tr th {\n",
       "        vertical-align: top;\n",
       "    }\n",
       "\n",
       "    .dataframe thead th {\n",
       "        text-align: right;\n",
       "    }\n",
       "</style>\n",
       "<table border=\"1\" class=\"dataframe\">\n",
       "  <thead>\n",
       "    <tr style=\"text-align: right;\">\n",
       "      <th></th>\n",
       "      <th>0</th>\n",
       "      <th>1</th>\n",
       "      <th>2</th>\n",
       "      <th>3</th>\n",
       "      <th>4</th>\n",
       "      <th>5</th>\n",
       "      <th>6</th>\n",
       "      <th>7</th>\n",
       "      <th>8</th>\n",
       "      <th>9</th>\n",
       "    </tr>\n",
       "  </thead>\n",
       "  <tbody>\n",
       "    <tr>\n",
       "      <th>0</th>\n",
       "      <td>NaN</td>\n",
       "      <td>LP 95</td>\n",
       "      <td>LP 92</td>\n",
       "      <td>LAD</td>\n",
       "      <td>LSD</td>\n",
       "      <td>LK</td>\n",
       "      <td>LIK</td>\n",
       "      <td>FUR. 800</td>\n",
       "      <td>FUR 1500 (High)</td>\n",
       "      <td>FUR. 1500 (Low)</td>\n",
       "    </tr>\n",
       "    <tr>\n",
       "      <th>1</th>\n",
       "      <td>01.04.2025</td>\n",
       "      <td>361</td>\n",
       "      <td>299</td>\n",
       "      <td>286</td>\n",
       "      <td>331</td>\n",
       "      <td>183</td>\n",
       "      <td>191</td>\n",
       "      <td>207</td>\n",
       "      <td>207</td>\n",
       "      <td>207</td>\n",
       "    </tr>\n",
       "    <tr>\n",
       "      <th>2</th>\n",
       "      <td>01.02.2025</td>\n",
       "      <td>371</td>\n",
       "      <td>309</td>\n",
       "      <td>286</td>\n",
       "      <td>331</td>\n",
       "      <td>183</td>\n",
       "      <td>191</td>\n",
       "      <td>207</td>\n",
       "      <td>207</td>\n",
       "      <td>207</td>\n",
       "    </tr>\n",
       "    <tr>\n",
       "      <th>3</th>\n",
       "      <td>01.01.2025</td>\n",
       "      <td>371</td>\n",
       "      <td>309</td>\n",
       "      <td>286</td>\n",
       "      <td>313</td>\n",
       "      <td>183</td>\n",
       "      <td>191</td>\n",
       "      <td>207</td>\n",
       "      <td>207</td>\n",
       "      <td>207</td>\n",
       "    </tr>\n",
       "    <tr>\n",
       "      <th>4</th>\n",
       "      <td>05.12.2024</td>\n",
       "      <td>371</td>\n",
       "      <td>309</td>\n",
       "      <td>286</td>\n",
       "      <td>313</td>\n",
       "      <td>188</td>\n",
       "      <td>196</td>\n",
       "      <td>207</td>\n",
       "      <td>207</td>\n",
       "      <td>207</td>\n",
       "    </tr>\n",
       "  </tbody>\n",
       "</table>\n",
       "</div>"
      ],
      "text/plain": [
       "            0      1      2    3    4    5    6         7                8  \\\n",
       "0         NaN  LP 95  LP 92  LAD  LSD   LK  LIK  FUR. 800  FUR 1500 (High)   \n",
       "1  01.04.2025    361    299  286  331  183  191       207              207   \n",
       "2  01.02.2025    371    309  286  331  183  191       207              207   \n",
       "3  01.01.2025    371    309  286  313  183  191       207              207   \n",
       "4  05.12.2024    371    309  286  313  188  196       207              207   \n",
       "\n",
       "                 9  \n",
       "0  FUR. 1500 (Low)  \n",
       "1              207  \n",
       "2              207  \n",
       "3              207  \n",
       "4              207  "
      ]
     },
     "execution_count": 12,
     "metadata": {},
     "output_type": "execute_result"
    }
   ],
   "source": [
    "dfP = pd.read_csv(r\"C:\\Users\\Dell\\OneDrive\\My_UNI\\Projects\\PrLSTM\\DataSet\\Petrol.csv\")\n",
    "dfP.head()"
   ]
  },
  {
   "cell_type": "code",
   "execution_count": 13,
   "id": "9d66ee39-4076-4733-a9cd-98b46f0eeac9",
   "metadata": {},
   "outputs": [],
   "source": [
    "dfP.columns = dfP.iloc[0]"
   ]
  },
  {
   "cell_type": "code",
   "execution_count": 14,
   "id": "cb5bd221-0e13-496b-8581-22d703b3bb49",
   "metadata": {},
   "outputs": [],
   "source": [
    "dfP.drop(0, inplace=True)"
   ]
  },
  {
   "cell_type": "code",
   "execution_count": 15,
   "id": "7d37014d-1ccd-497c-a1c3-6a696aaa0e7f",
   "metadata": {},
   "outputs": [
    {
     "data": {
      "text/plain": [
       "Index([              nan,           'LP 95',           'LP 92',\n",
       "                   'LAD',             'LSD',              'LK',\n",
       "                   'LIK',        'FUR. 800', 'FUR 1500 (High)',\n",
       "       'FUR. 1500 (Low)'],\n",
       "      dtype='object', name=0)"
      ]
     },
     "execution_count": 15,
     "metadata": {},
     "output_type": "execute_result"
    }
   ],
   "source": [
    "dfP.columns"
   ]
  },
  {
   "cell_type": "code",
   "execution_count": 16,
   "id": "9972601b-2080-4f6b-b112-4144b0c7e7bf",
   "metadata": {},
   "outputs": [],
   "source": [
    "dfP.rename(columns={np.nan:'Date'}, inplace=True)"
   ]
  },
  {
   "cell_type": "code",
   "execution_count": 17,
   "id": "592d37b3-e285-4d98-8fa5-fed4ffdfbb3f",
   "metadata": {},
   "outputs": [
    {
     "data": {
      "text/plain": [
       "Index(['Date', 'LP 95', 'LP 92', 'LAD', 'LSD', 'LK', 'LIK', 'FUR. 800',\n",
       "       'FUR 1500 (High)', 'FUR. 1500 (Low)'],\n",
       "      dtype='object', name=0)"
      ]
     },
     "execution_count": 17,
     "metadata": {},
     "output_type": "execute_result"
    }
   ],
   "source": [
    "dfP.columns"
   ]
  },
  {
   "cell_type": "code",
   "execution_count": 18,
   "id": "d6156544-8de3-4102-adef-a2f4a05b8ced",
   "metadata": {},
   "outputs": [],
   "source": [
    "dfP = dfP.drop(['LAD', 'LSD', 'LK', 'LIK', 'FUR. 800',\n",
    "       'FUR 1500 (High)', 'FUR. 1500 (Low)'], axis = 1)"
   ]
  },
  {
   "cell_type": "code",
   "execution_count": 19,
   "id": "227f1c64-0dcc-47b5-9034-d4cf79991914",
   "metadata": {},
   "outputs": [
    {
     "data": {
      "text/html": [
       "<div>\n",
       "<style scoped>\n",
       "    .dataframe tbody tr th:only-of-type {\n",
       "        vertical-align: middle;\n",
       "    }\n",
       "\n",
       "    .dataframe tbody tr th {\n",
       "        vertical-align: top;\n",
       "    }\n",
       "\n",
       "    .dataframe thead th {\n",
       "        text-align: right;\n",
       "    }\n",
       "</style>\n",
       "<table border=\"1\" class=\"dataframe\">\n",
       "  <thead>\n",
       "    <tr style=\"text-align: right;\">\n",
       "      <th></th>\n",
       "      <th>Date</th>\n",
       "      <th>LP 95</th>\n",
       "      <th>LP 92</th>\n",
       "    </tr>\n",
       "  </thead>\n",
       "  <tbody>\n",
       "    <tr>\n",
       "      <th>1</th>\n",
       "      <td>01.04.2025</td>\n",
       "      <td>361</td>\n",
       "      <td>299</td>\n",
       "    </tr>\n",
       "    <tr>\n",
       "      <th>2</th>\n",
       "      <td>01.02.2025</td>\n",
       "      <td>371</td>\n",
       "      <td>309</td>\n",
       "    </tr>\n",
       "    <tr>\n",
       "      <th>3</th>\n",
       "      <td>01.01.2025</td>\n",
       "      <td>371</td>\n",
       "      <td>309</td>\n",
       "    </tr>\n",
       "    <tr>\n",
       "      <th>4</th>\n",
       "      <td>05.12.2024</td>\n",
       "      <td>371</td>\n",
       "      <td>309</td>\n",
       "    </tr>\n",
       "    <tr>\n",
       "      <th>5</th>\n",
       "      <td>01.12.2024</td>\n",
       "      <td>371</td>\n",
       "      <td>309</td>\n",
       "    </tr>\n",
       "  </tbody>\n",
       "</table>\n",
       "</div>"
      ],
      "text/plain": [
       "0        Date LP 95 LP 92\n",
       "1  01.04.2025   361   299\n",
       "2  01.02.2025   371   309\n",
       "3  01.01.2025   371   309\n",
       "4  05.12.2024   371   309\n",
       "5  01.12.2024   371   309"
      ]
     },
     "execution_count": 19,
     "metadata": {},
     "output_type": "execute_result"
    }
   ],
   "source": [
    "dfP.head()"
   ]
  },
  {
   "cell_type": "code",
   "execution_count": 20,
   "id": "172d3fa7-83c7-4669-bd0b-2f1a33f7afd6",
   "metadata": {},
   "outputs": [],
   "source": [
    "dfP['Date'] = pd.to_datetime(dfP['Date'], dayfirst=True, errors='coerce').dt.date"
   ]
  },
  {
   "cell_type": "code",
   "execution_count": 21,
   "id": "1ba3c0ad-22a0-470c-9985-f364d65edee8",
   "metadata": {},
   "outputs": [
    {
     "data": {
      "text/html": [
       "<div>\n",
       "<style scoped>\n",
       "    .dataframe tbody tr th:only-of-type {\n",
       "        vertical-align: middle;\n",
       "    }\n",
       "\n",
       "    .dataframe tbody tr th {\n",
       "        vertical-align: top;\n",
       "    }\n",
       "\n",
       "    .dataframe thead th {\n",
       "        text-align: right;\n",
       "    }\n",
       "</style>\n",
       "<table border=\"1\" class=\"dataframe\">\n",
       "  <thead>\n",
       "    <tr style=\"text-align: right;\">\n",
       "      <th></th>\n",
       "      <th>Date</th>\n",
       "      <th>LP 95</th>\n",
       "      <th>LP 92</th>\n",
       "    </tr>\n",
       "  </thead>\n",
       "  <tbody>\n",
       "    <tr>\n",
       "      <th>1</th>\n",
       "      <td>2025-04-01</td>\n",
       "      <td>361</td>\n",
       "      <td>299</td>\n",
       "    </tr>\n",
       "    <tr>\n",
       "      <th>2</th>\n",
       "      <td>2025-02-01</td>\n",
       "      <td>371</td>\n",
       "      <td>309</td>\n",
       "    </tr>\n",
       "    <tr>\n",
       "      <th>3</th>\n",
       "      <td>2025-01-01</td>\n",
       "      <td>371</td>\n",
       "      <td>309</td>\n",
       "    </tr>\n",
       "    <tr>\n",
       "      <th>4</th>\n",
       "      <td>2024-12-05</td>\n",
       "      <td>371</td>\n",
       "      <td>309</td>\n",
       "    </tr>\n",
       "    <tr>\n",
       "      <th>5</th>\n",
       "      <td>2024-12-01</td>\n",
       "      <td>371</td>\n",
       "      <td>309</td>\n",
       "    </tr>\n",
       "  </tbody>\n",
       "</table>\n",
       "</div>"
      ],
      "text/plain": [
       "0        Date LP 95 LP 92\n",
       "1  2025-04-01   361   299\n",
       "2  2025-02-01   371   309\n",
       "3  2025-01-01   371   309\n",
       "4  2024-12-05   371   309\n",
       "5  2024-12-01   371   309"
      ]
     },
     "execution_count": 21,
     "metadata": {},
     "output_type": "execute_result"
    }
   ],
   "source": [
    "dfP.head()"
   ]
  },
  {
   "cell_type": "code",
   "execution_count": 22,
   "id": "a6257d08-ac55-4b80-bd85-a091c5d1cf64",
   "metadata": {},
   "outputs": [
    {
     "data": {
      "text/plain": [
       "0\n",
       "Date     1\n",
       "LP 95    0\n",
       "LP 92    0\n",
       "dtype: int64"
      ]
     },
     "execution_count": 22,
     "metadata": {},
     "output_type": "execute_result"
    }
   ],
   "source": [
    "dfP.isnull().sum()"
   ]
  },
  {
   "cell_type": "code",
   "execution_count": 23,
   "id": "c10775b6-ea6b-4234-9e87-2ea3a3d90dd0",
   "metadata": {},
   "outputs": [],
   "source": [
    "dfP.dropna(inplace=True)"
   ]
  },
  {
   "cell_type": "markdown",
   "id": "df380353-9c5a-4af2-b91e-9c8e446fca6f",
   "metadata": {},
   "source": [
    "# Gold + Petrol Data"
   ]
  },
  {
   "cell_type": "code",
   "execution_count": 24,
   "id": "29d73970-56c3-47f6-9f16-247a9dea26ab",
   "metadata": {},
   "outputs": [],
   "source": [
    "dfG = dfG.sort_values('Date')"
   ]
  },
  {
   "cell_type": "code",
   "execution_count": 25,
   "id": "683077d0-a765-4f7a-a3e3-41438ceff91c",
   "metadata": {},
   "outputs": [
    {
     "data": {
      "text/html": [
       "<div>\n",
       "<style scoped>\n",
       "    .dataframe tbody tr th:only-of-type {\n",
       "        vertical-align: middle;\n",
       "    }\n",
       "\n",
       "    .dataframe tbody tr th {\n",
       "        vertical-align: top;\n",
       "    }\n",
       "\n",
       "    .dataframe thead th {\n",
       "        text-align: right;\n",
       "    }\n",
       "</style>\n",
       "<table border=\"1\" class=\"dataframe\">\n",
       "  <thead>\n",
       "    <tr style=\"text-align: right;\">\n",
       "      <th></th>\n",
       "      <th>Date</th>\n",
       "      <th>GoldPricePerGram</th>\n",
       "    </tr>\n",
       "  </thead>\n",
       "  <tbody>\n",
       "    <tr>\n",
       "      <th>3160</th>\n",
       "      <td>2016-01-01</td>\n",
       "      <td>4907.4</td>\n",
       "    </tr>\n",
       "    <tr>\n",
       "      <th>3159</th>\n",
       "      <td>2016-01-04</td>\n",
       "      <td>5025.5</td>\n",
       "    </tr>\n",
       "    <tr>\n",
       "      <th>3158</th>\n",
       "      <td>2016-01-05</td>\n",
       "      <td>4974.7</td>\n",
       "    </tr>\n",
       "    <tr>\n",
       "      <th>3157</th>\n",
       "      <td>2016-01-06</td>\n",
       "      <td>5051.7</td>\n",
       "    </tr>\n",
       "    <tr>\n",
       "      <th>3156</th>\n",
       "      <td>2016-01-07</td>\n",
       "      <td>5112.0</td>\n",
       "    </tr>\n",
       "  </tbody>\n",
       "</table>\n",
       "</div>"
      ],
      "text/plain": [
       "0           Date  GoldPricePerGram\n",
       "3160  2016-01-01            4907.4\n",
       "3159  2016-01-04            5025.5\n",
       "3158  2016-01-05            4974.7\n",
       "3157  2016-01-06            5051.7\n",
       "3156  2016-01-07            5112.0"
      ]
     },
     "execution_count": 25,
     "metadata": {},
     "output_type": "execute_result"
    }
   ],
   "source": [
    "dfG.head()"
   ]
  },
  {
   "cell_type": "code",
   "execution_count": 26,
   "id": "47fa2104-2ef5-42e0-aa6e-3822115c78d2",
   "metadata": {},
   "outputs": [
    {
     "data": {
      "text/plain": [
       "(3159, 2)"
      ]
     },
     "execution_count": 26,
     "metadata": {},
     "output_type": "execute_result"
    }
   ],
   "source": [
    "dfG.shape"
   ]
  },
  {
   "cell_type": "code",
   "execution_count": 27,
   "id": "f8c4316a-b003-46ed-a4d7-845d7e6321f9",
   "metadata": {},
   "outputs": [],
   "source": [
    "dfP = dfP.sort_values('Date')"
   ]
  },
  {
   "cell_type": "code",
   "execution_count": 28,
   "id": "6ae006e9-12bf-4eb6-af2a-cc1bf7b6fb85",
   "metadata": {},
   "outputs": [
    {
     "data": {
      "text/html": [
       "<div>\n",
       "<style scoped>\n",
       "    .dataframe tbody tr th:only-of-type {\n",
       "        vertical-align: middle;\n",
       "    }\n",
       "\n",
       "    .dataframe tbody tr th {\n",
       "        vertical-align: top;\n",
       "    }\n",
       "\n",
       "    .dataframe thead th {\n",
       "        text-align: right;\n",
       "    }\n",
       "</style>\n",
       "<table border=\"1\" class=\"dataframe\">\n",
       "  <thead>\n",
       "    <tr style=\"text-align: right;\">\n",
       "      <th></th>\n",
       "      <th>Date</th>\n",
       "      <th>LP 95</th>\n",
       "      <th>LP 92</th>\n",
       "    </tr>\n",
       "  </thead>\n",
       "  <tbody>\n",
       "    <tr>\n",
       "      <th>161</th>\n",
       "      <td>1990-03-01</td>\n",
       "      <td>22</td>\n",
       "      <td>20</td>\n",
       "    </tr>\n",
       "    <tr>\n",
       "      <th>160</th>\n",
       "      <td>1990-08-14</td>\n",
       "      <td>27</td>\n",
       "      <td>25</td>\n",
       "    </tr>\n",
       "    <tr>\n",
       "      <th>159</th>\n",
       "      <td>1990-11-05</td>\n",
       "      <td>38</td>\n",
       "      <td>35</td>\n",
       "    </tr>\n",
       "    <tr>\n",
       "      <th>158</th>\n",
       "      <td>1990-12-26</td>\n",
       "      <td>32.5</td>\n",
       "      <td>30</td>\n",
       "    </tr>\n",
       "    <tr>\n",
       "      <th>157</th>\n",
       "      <td>1991-01-01</td>\n",
       "      <td>32.5</td>\n",
       "      <td>30</td>\n",
       "    </tr>\n",
       "  </tbody>\n",
       "</table>\n",
       "</div>"
      ],
      "text/plain": [
       "0          Date LP 95 LP 92\n",
       "161  1990-03-01    22    20\n",
       "160  1990-08-14    27    25\n",
       "159  1990-11-05    38    35\n",
       "158  1990-12-26  32.5    30\n",
       "157  1991-01-01  32.5    30"
      ]
     },
     "execution_count": 28,
     "metadata": {},
     "output_type": "execute_result"
    }
   ],
   "source": [
    "dfP.head()"
   ]
  },
  {
   "cell_type": "code",
   "execution_count": 29,
   "id": "515ece71-8824-4502-a1dc-c6dbb319919f",
   "metadata": {},
   "outputs": [
    {
     "data": {
      "text/plain": [
       "(160, 3)"
      ]
     },
     "execution_count": 29,
     "metadata": {},
     "output_type": "execute_result"
    }
   ],
   "source": [
    "dfP.shape"
   ]
  },
  {
   "cell_type": "code",
   "execution_count": 30,
   "id": "26f2aab6-ccf4-4294-bf08-4a5252a20164",
   "metadata": {},
   "outputs": [],
   "source": [
    "df1 = pd.merge(dfG, dfP, on='Date',how='left')"
   ]
  },
  {
   "cell_type": "code",
   "execution_count": 31,
   "id": "50d52933-8f58-4b1b-b840-c275c840c939",
   "metadata": {},
   "outputs": [],
   "source": [
    "df1[['LP 95', 'LP 92']] = df1[['LP 95', 'LP 92']].fillna(method='ffill')"
   ]
  },
  {
   "cell_type": "code",
   "execution_count": 32,
   "id": "4fc91d4e-1c82-4b75-966f-ba468a2b46f8",
   "metadata": {},
   "outputs": [
    {
     "data": {
      "text/html": [
       "<div>\n",
       "<style scoped>\n",
       "    .dataframe tbody tr th:only-of-type {\n",
       "        vertical-align: middle;\n",
       "    }\n",
       "\n",
       "    .dataframe tbody tr th {\n",
       "        vertical-align: top;\n",
       "    }\n",
       "\n",
       "    .dataframe thead th {\n",
       "        text-align: right;\n",
       "    }\n",
       "</style>\n",
       "<table border=\"1\" class=\"dataframe\">\n",
       "  <thead>\n",
       "    <tr style=\"text-align: right;\">\n",
       "      <th></th>\n",
       "      <th>Date</th>\n",
       "      <th>GoldPricePerGram</th>\n",
       "      <th>LP 95</th>\n",
       "      <th>LP 92</th>\n",
       "    </tr>\n",
       "  </thead>\n",
       "  <tbody>\n",
       "    <tr>\n",
       "      <th>0</th>\n",
       "      <td>2016-01-01</td>\n",
       "      <td>4907.4</td>\n",
       "      <td>NaN</td>\n",
       "      <td>NaN</td>\n",
       "    </tr>\n",
       "    <tr>\n",
       "      <th>1</th>\n",
       "      <td>2016-01-04</td>\n",
       "      <td>5025.5</td>\n",
       "      <td>NaN</td>\n",
       "      <td>NaN</td>\n",
       "    </tr>\n",
       "    <tr>\n",
       "      <th>2</th>\n",
       "      <td>2016-01-05</td>\n",
       "      <td>4974.7</td>\n",
       "      <td>NaN</td>\n",
       "      <td>NaN</td>\n",
       "    </tr>\n",
       "    <tr>\n",
       "      <th>3</th>\n",
       "      <td>2016-01-06</td>\n",
       "      <td>5051.7</td>\n",
       "      <td>NaN</td>\n",
       "      <td>NaN</td>\n",
       "    </tr>\n",
       "    <tr>\n",
       "      <th>4</th>\n",
       "      <td>2016-01-07</td>\n",
       "      <td>5112.0</td>\n",
       "      <td>NaN</td>\n",
       "      <td>NaN</td>\n",
       "    </tr>\n",
       "  </tbody>\n",
       "</table>\n",
       "</div>"
      ],
      "text/plain": [
       "0        Date  GoldPricePerGram LP 95 LP 92\n",
       "0  2016-01-01            4907.4   NaN   NaN\n",
       "1  2016-01-04            5025.5   NaN   NaN\n",
       "2  2016-01-05            4974.7   NaN   NaN\n",
       "3  2016-01-06            5051.7   NaN   NaN\n",
       "4  2016-01-07            5112.0   NaN   NaN"
      ]
     },
     "execution_count": 32,
     "metadata": {},
     "output_type": "execute_result"
    }
   ],
   "source": [
    "df1.head()"
   ]
  },
  {
   "cell_type": "code",
   "execution_count": 33,
   "id": "161fcf96-d2f6-4c72-b2c3-674faded7ce9",
   "metadata": {},
   "outputs": [
    {
     "data": {
      "text/plain": [
       "0\n",
       "Date                  0\n",
       "GoldPricePerGram      0\n",
       "LP 95               613\n",
       "LP 92               613\n",
       "dtype: int64"
      ]
     },
     "execution_count": 33,
     "metadata": {},
     "output_type": "execute_result"
    }
   ],
   "source": [
    "df1.isnull().sum()"
   ]
  },
  {
   "cell_type": "code",
   "execution_count": 34,
   "id": "451b7f8a-0bc8-441a-a4d0-c18e05f888b2",
   "metadata": {},
   "outputs": [
    {
     "data": {
      "text/html": [
       "<div>\n",
       "<style scoped>\n",
       "    .dataframe tbody tr th:only-of-type {\n",
       "        vertical-align: middle;\n",
       "    }\n",
       "\n",
       "    .dataframe tbody tr th {\n",
       "        vertical-align: top;\n",
       "    }\n",
       "\n",
       "    .dataframe thead th {\n",
       "        text-align: right;\n",
       "    }\n",
       "</style>\n",
       "<table border=\"1\" class=\"dataframe\">\n",
       "  <thead>\n",
       "    <tr style=\"text-align: right;\">\n",
       "      <th></th>\n",
       "      <th>Date</th>\n",
       "      <th>GoldPricePerGram</th>\n",
       "      <th>LP 95</th>\n",
       "      <th>LP 92</th>\n",
       "    </tr>\n",
       "  </thead>\n",
       "  <tbody>\n",
       "    <tr>\n",
       "      <th>0</th>\n",
       "      <td>2016-01-01</td>\n",
       "      <td>4907.4</td>\n",
       "      <td>NaN</td>\n",
       "      <td>NaN</td>\n",
       "    </tr>\n",
       "    <tr>\n",
       "      <th>1</th>\n",
       "      <td>2016-01-04</td>\n",
       "      <td>5025.5</td>\n",
       "      <td>NaN</td>\n",
       "      <td>NaN</td>\n",
       "    </tr>\n",
       "    <tr>\n",
       "      <th>2</th>\n",
       "      <td>2016-01-05</td>\n",
       "      <td>4974.7</td>\n",
       "      <td>NaN</td>\n",
       "      <td>NaN</td>\n",
       "    </tr>\n",
       "    <tr>\n",
       "      <th>3</th>\n",
       "      <td>2016-01-06</td>\n",
       "      <td>5051.7</td>\n",
       "      <td>NaN</td>\n",
       "      <td>NaN</td>\n",
       "    </tr>\n",
       "    <tr>\n",
       "      <th>4</th>\n",
       "      <td>2016-01-07</td>\n",
       "      <td>5112.0</td>\n",
       "      <td>NaN</td>\n",
       "      <td>NaN</td>\n",
       "    </tr>\n",
       "    <tr>\n",
       "      <th>...</th>\n",
       "      <td>...</td>\n",
       "      <td>...</td>\n",
       "      <td>...</td>\n",
       "      <td>...</td>\n",
       "    </tr>\n",
       "    <tr>\n",
       "      <th>608</th>\n",
       "      <td>2018-05-06</td>\n",
       "      <td>6655.3</td>\n",
       "      <td>NaN</td>\n",
       "      <td>NaN</td>\n",
       "    </tr>\n",
       "    <tr>\n",
       "      <th>609</th>\n",
       "      <td>2018-05-07</td>\n",
       "      <td>6644.4</td>\n",
       "      <td>NaN</td>\n",
       "      <td>NaN</td>\n",
       "    </tr>\n",
       "    <tr>\n",
       "      <th>610</th>\n",
       "      <td>2018-05-08</td>\n",
       "      <td>6646.8</td>\n",
       "      <td>NaN</td>\n",
       "      <td>NaN</td>\n",
       "    </tr>\n",
       "    <tr>\n",
       "      <th>611</th>\n",
       "      <td>2018-05-09</td>\n",
       "      <td>6657.7</td>\n",
       "      <td>NaN</td>\n",
       "      <td>NaN</td>\n",
       "    </tr>\n",
       "    <tr>\n",
       "      <th>612</th>\n",
       "      <td>2018-05-10</td>\n",
       "      <td>6704.4</td>\n",
       "      <td>NaN</td>\n",
       "      <td>NaN</td>\n",
       "    </tr>\n",
       "  </tbody>\n",
       "</table>\n",
       "<p>613 rows × 4 columns</p>\n",
       "</div>"
      ],
      "text/plain": [
       "0          Date  GoldPricePerGram LP 95 LP 92\n",
       "0    2016-01-01            4907.4   NaN   NaN\n",
       "1    2016-01-04            5025.5   NaN   NaN\n",
       "2    2016-01-05            4974.7   NaN   NaN\n",
       "3    2016-01-06            5051.7   NaN   NaN\n",
       "4    2016-01-07            5112.0   NaN   NaN\n",
       "..          ...               ...   ...   ...\n",
       "608  2018-05-06            6655.3   NaN   NaN\n",
       "609  2018-05-07            6644.4   NaN   NaN\n",
       "610  2018-05-08            6646.8   NaN   NaN\n",
       "611  2018-05-09            6657.7   NaN   NaN\n",
       "612  2018-05-10            6704.4   NaN   NaN\n",
       "\n",
       "[613 rows x 4 columns]"
      ]
     },
     "execution_count": 34,
     "metadata": {},
     "output_type": "execute_result"
    }
   ],
   "source": [
    "df1[df1.isnull().any(axis=1)]"
   ]
  },
  {
   "cell_type": "markdown",
   "id": "a4a82643-4fd0-4df2-a27c-923231c51c96",
   "metadata": {},
   "source": [
    "#### Fill the missing petrol price by getting average price ofLP 92 and 95 from 2016 to 2018 May"
   ]
  },
  {
   "cell_type": "code",
   "execution_count": 35,
   "id": "bfdce0df-62a4-4f74-86e3-7a3343156cd9",
   "metadata": {},
   "outputs": [],
   "source": [
    "dfP2 =dfP.copy()"
   ]
  },
  {
   "cell_type": "code",
   "execution_count": 36,
   "id": "93b47eac-3515-40a8-8891-f40f23ad0053",
   "metadata": {},
   "outputs": [],
   "source": [
    "dfP2['Date'] = pd.to_datetime(dfP2['Date'])  # this keeps it as datetime64"
   ]
  },
  {
   "cell_type": "code",
   "execution_count": 37,
   "id": "8c578df4-f0da-4560-911c-74d83dd64332",
   "metadata": {},
   "outputs": [
    {
     "data": {
      "text/html": [
       "<div>\n",
       "<style scoped>\n",
       "    .dataframe tbody tr th:only-of-type {\n",
       "        vertical-align: middle;\n",
       "    }\n",
       "\n",
       "    .dataframe tbody tr th {\n",
       "        vertical-align: top;\n",
       "    }\n",
       "\n",
       "    .dataframe thead th {\n",
       "        text-align: right;\n",
       "    }\n",
       "</style>\n",
       "<table border=\"1\" class=\"dataframe\">\n",
       "  <thead>\n",
       "    <tr style=\"text-align: right;\">\n",
       "      <th></th>\n",
       "      <th>Date</th>\n",
       "      <th>LP 95</th>\n",
       "      <th>LP 92</th>\n",
       "    </tr>\n",
       "  </thead>\n",
       "  <tbody>\n",
       "    <tr>\n",
       "      <th>73</th>\n",
       "      <td>2015-01-01</td>\n",
       "      <td>158</td>\n",
       "      <td>150</td>\n",
       "    </tr>\n",
       "    <tr>\n",
       "      <th>72</th>\n",
       "      <td>2015-01-22</td>\n",
       "      <td>128</td>\n",
       "      <td>117</td>\n",
       "    </tr>\n",
       "    <tr>\n",
       "      <th>71</th>\n",
       "      <td>2015-01-29</td>\n",
       "      <td>128</td>\n",
       "      <td>117</td>\n",
       "    </tr>\n",
       "    <tr>\n",
       "      <th>70</th>\n",
       "      <td>2015-11-28</td>\n",
       "      <td>128</td>\n",
       "      <td>117</td>\n",
       "    </tr>\n",
       "  </tbody>\n",
       "</table>\n",
       "</div>"
      ],
      "text/plain": [
       "0        Date LP 95 LP 92\n",
       "73 2015-01-01   158   150\n",
       "72 2015-01-22   128   117\n",
       "71 2015-01-29   128   117\n",
       "70 2015-11-28   128   117"
      ]
     },
     "execution_count": 37,
     "metadata": {},
     "output_type": "execute_result"
    }
   ],
   "source": [
    "df_2016 = dfP2[dfP2['Date'].dt.year == 2015]\n",
    "df_2016"
   ]
  },
  {
   "cell_type": "code",
   "execution_count": 38,
   "id": "81ab3871-4af4-488e-aa93-0735fe0898e5",
   "metadata": {},
   "outputs": [
    {
     "data": {
      "text/html": [
       "<div>\n",
       "<style scoped>\n",
       "    .dataframe tbody tr th:only-of-type {\n",
       "        vertical-align: middle;\n",
       "    }\n",
       "\n",
       "    .dataframe tbody tr th {\n",
       "        vertical-align: top;\n",
       "    }\n",
       "\n",
       "    .dataframe thead th {\n",
       "        text-align: right;\n",
       "    }\n",
       "</style>\n",
       "<table border=\"1\" class=\"dataframe\">\n",
       "  <thead>\n",
       "    <tr style=\"text-align: right;\">\n",
       "      <th></th>\n",
       "      <th>Date</th>\n",
       "      <th>LP 95</th>\n",
       "      <th>LP 92</th>\n",
       "    </tr>\n",
       "  </thead>\n",
       "  <tbody>\n",
       "    <tr>\n",
       "      <th>73</th>\n",
       "      <td>2015-01-01</td>\n",
       "      <td>158</td>\n",
       "      <td>150</td>\n",
       "    </tr>\n",
       "    <tr>\n",
       "      <th>72</th>\n",
       "      <td>2015-01-22</td>\n",
       "      <td>128</td>\n",
       "      <td>117</td>\n",
       "    </tr>\n",
       "    <tr>\n",
       "      <th>71</th>\n",
       "      <td>2015-01-29</td>\n",
       "      <td>128</td>\n",
       "      <td>117</td>\n",
       "    </tr>\n",
       "    <tr>\n",
       "      <th>70</th>\n",
       "      <td>2015-11-28</td>\n",
       "      <td>128</td>\n",
       "      <td>117</td>\n",
       "    </tr>\n",
       "    <tr>\n",
       "      <th>69</th>\n",
       "      <td>2018-05-11</td>\n",
       "      <td>148</td>\n",
       "      <td>137</td>\n",
       "    </tr>\n",
       "    <tr>\n",
       "      <th>68</th>\n",
       "      <td>2018-06-13</td>\n",
       "      <td>148</td>\n",
       "      <td>137</td>\n",
       "    </tr>\n",
       "    <tr>\n",
       "      <th>67</th>\n",
       "      <td>2018-07-11</td>\n",
       "      <td>155</td>\n",
       "      <td>145</td>\n",
       "    </tr>\n",
       "    <tr>\n",
       "      <th>66</th>\n",
       "      <td>2018-08-11</td>\n",
       "      <td>157</td>\n",
       "      <td>145</td>\n",
       "    </tr>\n",
       "    <tr>\n",
       "      <th>65</th>\n",
       "      <td>2018-09-04</td>\n",
       "      <td>157</td>\n",
       "      <td>145</td>\n",
       "    </tr>\n",
       "    <tr>\n",
       "      <th>64</th>\n",
       "      <td>2018-09-11</td>\n",
       "      <td>161</td>\n",
       "      <td>149</td>\n",
       "    </tr>\n",
       "    <tr>\n",
       "      <th>63</th>\n",
       "      <td>2018-10-11</td>\n",
       "      <td>169</td>\n",
       "      <td>155</td>\n",
       "    </tr>\n",
       "    <tr>\n",
       "      <th>62</th>\n",
       "      <td>2018-11-02</td>\n",
       "      <td>169</td>\n",
       "      <td>145</td>\n",
       "    </tr>\n",
       "    <tr>\n",
       "      <th>61</th>\n",
       "      <td>2018-11-16</td>\n",
       "      <td>164</td>\n",
       "      <td>140</td>\n",
       "    </tr>\n",
       "    <tr>\n",
       "      <th>60</th>\n",
       "      <td>2018-12-01</td>\n",
       "      <td>159</td>\n",
       "      <td>135</td>\n",
       "    </tr>\n",
       "    <tr>\n",
       "      <th>59</th>\n",
       "      <td>2018-12-22</td>\n",
       "      <td>149</td>\n",
       "      <td>125</td>\n",
       "    </tr>\n",
       "  </tbody>\n",
       "</table>\n",
       "</div>"
      ],
      "text/plain": [
       "0        Date LP 95 LP 92\n",
       "73 2015-01-01   158   150\n",
       "72 2015-01-22   128   117\n",
       "71 2015-01-29   128   117\n",
       "70 2015-11-28   128   117\n",
       "69 2018-05-11   148   137\n",
       "68 2018-06-13   148   137\n",
       "67 2018-07-11   155   145\n",
       "66 2018-08-11   157   145\n",
       "65 2018-09-04   157   145\n",
       "64 2018-09-11   161   149\n",
       "63 2018-10-11   169   155\n",
       "62 2018-11-02   169   145\n",
       "61 2018-11-16   164   140\n",
       "60 2018-12-01   159   135\n",
       "59 2018-12-22   149   125"
      ]
     },
     "execution_count": 38,
     "metadata": {},
     "output_type": "execute_result"
    }
   ],
   "source": [
    "df_2015_2019 = dfP2[(dfP2['Date'].dt.year >= 2015) & (dfP2['Date'].dt.year < 2019)]\n",
    "df_2015_2019"
   ]
  },
  {
   "cell_type": "code",
   "execution_count": 39,
   "id": "2a12bea9-daa1-4eca-b69f-14dd4316d3dd",
   "metadata": {},
   "outputs": [],
   "source": [
    "df_2015_2019.loc[df_2015_2019['Date'] == '2018-05-11',  ['LP 95', 'LP 92']] = [148.00, 137.00]"
   ]
  },
  {
   "cell_type": "code",
   "execution_count": 40,
   "id": "14cfd4a2-af28-44a9-875b-b0d55d9ff099",
   "metadata": {},
   "outputs": [
    {
     "data": {
      "text/html": [
       "<div>\n",
       "<style scoped>\n",
       "    .dataframe tbody tr th:only-of-type {\n",
       "        vertical-align: middle;\n",
       "    }\n",
       "\n",
       "    .dataframe tbody tr th {\n",
       "        vertical-align: top;\n",
       "    }\n",
       "\n",
       "    .dataframe thead th {\n",
       "        text-align: right;\n",
       "    }\n",
       "</style>\n",
       "<table border=\"1\" class=\"dataframe\">\n",
       "  <thead>\n",
       "    <tr style=\"text-align: right;\">\n",
       "      <th></th>\n",
       "      <th>Date</th>\n",
       "      <th>LP 95</th>\n",
       "      <th>LP 92</th>\n",
       "    </tr>\n",
       "  </thead>\n",
       "  <tbody>\n",
       "    <tr>\n",
       "      <th>70</th>\n",
       "      <td>2015-11-28</td>\n",
       "      <td>128</td>\n",
       "      <td>117</td>\n",
       "    </tr>\n",
       "    <tr>\n",
       "      <th>69</th>\n",
       "      <td>2018-05-11</td>\n",
       "      <td>148.0</td>\n",
       "      <td>137.0</td>\n",
       "    </tr>\n",
       "  </tbody>\n",
       "</table>\n",
       "</div>"
      ],
      "text/plain": [
       "0        Date  LP 95  LP 92\n",
       "70 2015-11-28    128    117\n",
       "69 2018-05-11  148.0  137.0"
      ]
     },
     "execution_count": 40,
     "metadata": {},
     "output_type": "execute_result"
    }
   ],
   "source": [
    "pet_mean=df_2015_2019.iloc[3:5,:]\n",
    "pet_mean"
   ]
  },
  {
   "cell_type": "code",
   "execution_count": 41,
   "id": "ab735aa0-aff6-4c15-a6ff-5c7e74e28135",
   "metadata": {},
   "outputs": [
    {
     "data": {
      "text/plain": [
       "0\n",
       "Date     datetime64[ns]\n",
       "LP 95            object\n",
       "LP 92            object\n",
       "dtype: object"
      ]
     },
     "execution_count": 41,
     "metadata": {},
     "output_type": "execute_result"
    }
   ],
   "source": [
    "pet_mean.dtypes"
   ]
  },
  {
   "cell_type": "code",
   "execution_count": 42,
   "id": "01f8c254-f017-4183-9980-06ea8d168249",
   "metadata": {},
   "outputs": [],
   "source": [
    "col = ['LP 95', 'LP 92']\n",
    "pet_mean[col]=pet_mean[col].astype('float')"
   ]
  },
  {
   "cell_type": "code",
   "execution_count": 43,
   "id": "6939f406-8b07-475e-8b03-544c555367f8",
   "metadata": {},
   "outputs": [
    {
     "data": {
      "text/html": [
       "<div>\n",
       "<style scoped>\n",
       "    .dataframe tbody tr th:only-of-type {\n",
       "        vertical-align: middle;\n",
       "    }\n",
       "\n",
       "    .dataframe tbody tr th {\n",
       "        vertical-align: top;\n",
       "    }\n",
       "\n",
       "    .dataframe thead th {\n",
       "        text-align: right;\n",
       "    }\n",
       "</style>\n",
       "<table border=\"1\" class=\"dataframe\">\n",
       "  <thead>\n",
       "    <tr style=\"text-align: right;\">\n",
       "      <th></th>\n",
       "      <th>Date</th>\n",
       "      <th>LP 95</th>\n",
       "      <th>LP 92</th>\n",
       "    </tr>\n",
       "  </thead>\n",
       "  <tbody>\n",
       "    <tr>\n",
       "      <th>count</th>\n",
       "      <td>2</td>\n",
       "      <td>2.000000</td>\n",
       "      <td>2.000000</td>\n",
       "    </tr>\n",
       "    <tr>\n",
       "      <th>mean</th>\n",
       "      <td>2017-02-17 12:00:00</td>\n",
       "      <td>138.000000</td>\n",
       "      <td>127.000000</td>\n",
       "    </tr>\n",
       "    <tr>\n",
       "      <th>min</th>\n",
       "      <td>2015-11-28 00:00:00</td>\n",
       "      <td>128.000000</td>\n",
       "      <td>117.000000</td>\n",
       "    </tr>\n",
       "    <tr>\n",
       "      <th>25%</th>\n",
       "      <td>2016-07-08 18:00:00</td>\n",
       "      <td>133.000000</td>\n",
       "      <td>122.000000</td>\n",
       "    </tr>\n",
       "    <tr>\n",
       "      <th>50%</th>\n",
       "      <td>2017-02-17 12:00:00</td>\n",
       "      <td>138.000000</td>\n",
       "      <td>127.000000</td>\n",
       "    </tr>\n",
       "    <tr>\n",
       "      <th>75%</th>\n",
       "      <td>2017-09-29 06:00:00</td>\n",
       "      <td>143.000000</td>\n",
       "      <td>132.000000</td>\n",
       "    </tr>\n",
       "    <tr>\n",
       "      <th>max</th>\n",
       "      <td>2018-05-11 00:00:00</td>\n",
       "      <td>148.000000</td>\n",
       "      <td>137.000000</td>\n",
       "    </tr>\n",
       "    <tr>\n",
       "      <th>std</th>\n",
       "      <td>NaN</td>\n",
       "      <td>14.142136</td>\n",
       "      <td>14.142136</td>\n",
       "    </tr>\n",
       "  </tbody>\n",
       "</table>\n",
       "</div>"
      ],
      "text/plain": [
       "0                     Date       LP 95       LP 92\n",
       "count                    2    2.000000    2.000000\n",
       "mean   2017-02-17 12:00:00  138.000000  127.000000\n",
       "min    2015-11-28 00:00:00  128.000000  117.000000\n",
       "25%    2016-07-08 18:00:00  133.000000  122.000000\n",
       "50%    2017-02-17 12:00:00  138.000000  127.000000\n",
       "75%    2017-09-29 06:00:00  143.000000  132.000000\n",
       "max    2018-05-11 00:00:00  148.000000  137.000000\n",
       "std                    NaN   14.142136   14.142136"
      ]
     },
     "execution_count": 43,
     "metadata": {},
     "output_type": "execute_result"
    }
   ],
   "source": [
    "pet_mean.describe()"
   ]
  },
  {
   "cell_type": "code",
   "execution_count": null,
   "id": "99bfe43b-3b72-4376-98e6-c0e33decb013",
   "metadata": {},
   "outputs": [],
   "source": []
  },
  {
   "cell_type": "code",
   "execution_count": 44,
   "id": "be5ffb80-9c53-499a-97c3-ee0d2e3d8edd",
   "metadata": {},
   "outputs": [],
   "source": [
    "# Accroding to \"http://laugfspetroleum.lk/fuel.php\" current 92 and 95 petrol price is 293 and 340LKR but we need to fill past year values\n",
    "df1.fillna(value = {'LP 95':138.00, 'LP 92' : 127.00},inplace=True)"
   ]
  },
  {
   "cell_type": "code",
   "execution_count": 45,
   "id": "94ee9054-49bc-42bc-b23d-9a06fa0db465",
   "metadata": {},
   "outputs": [
    {
     "data": {
      "text/plain": [
       "0\n",
       "Date                0\n",
       "GoldPricePerGram    0\n",
       "LP 95               0\n",
       "LP 92               0\n",
       "dtype: int64"
      ]
     },
     "execution_count": 45,
     "metadata": {},
     "output_type": "execute_result"
    }
   ],
   "source": [
    "df1.isnull().sum()"
   ]
  },
  {
   "cell_type": "code",
   "execution_count": 46,
   "id": "074ed669-e0d6-41f9-a6ee-3c27238c322b",
   "metadata": {},
   "outputs": [],
   "source": [
    "df1.loc[df1['Date'] == '2018-05-11',  ['LP 95', 'LP 92']] = [148.00, 137.00]"
   ]
  },
  {
   "cell_type": "code",
   "execution_count": 47,
   "id": "cd6bf63f-aad0-4df0-8b52-f24c7e2b48a3",
   "metadata": {},
   "outputs": [
    {
     "data": {
      "text/html": [
       "<div>\n",
       "<style scoped>\n",
       "    .dataframe tbody tr th:only-of-type {\n",
       "        vertical-align: middle;\n",
       "    }\n",
       "\n",
       "    .dataframe tbody tr th {\n",
       "        vertical-align: top;\n",
       "    }\n",
       "\n",
       "    .dataframe thead th {\n",
       "        text-align: right;\n",
       "    }\n",
       "</style>\n",
       "<table border=\"1\" class=\"dataframe\">\n",
       "  <thead>\n",
       "    <tr style=\"text-align: right;\">\n",
       "      <th></th>\n",
       "      <th>Date</th>\n",
       "      <th>GoldPricePerGram</th>\n",
       "      <th>LP 95</th>\n",
       "      <th>LP 92</th>\n",
       "    </tr>\n",
       "  </thead>\n",
       "  <tbody>\n",
       "    <tr>\n",
       "      <th>0</th>\n",
       "      <td>2016-01-01</td>\n",
       "      <td>4907.4</td>\n",
       "      <td>138.0</td>\n",
       "      <td>127.0</td>\n",
       "    </tr>\n",
       "    <tr>\n",
       "      <th>1</th>\n",
       "      <td>2016-01-04</td>\n",
       "      <td>5025.5</td>\n",
       "      <td>138.0</td>\n",
       "      <td>127.0</td>\n",
       "    </tr>\n",
       "    <tr>\n",
       "      <th>2</th>\n",
       "      <td>2016-01-05</td>\n",
       "      <td>4974.7</td>\n",
       "      <td>138.0</td>\n",
       "      <td>127.0</td>\n",
       "    </tr>\n",
       "    <tr>\n",
       "      <th>3</th>\n",
       "      <td>2016-01-06</td>\n",
       "      <td>5051.7</td>\n",
       "      <td>138.0</td>\n",
       "      <td>127.0</td>\n",
       "    </tr>\n",
       "    <tr>\n",
       "      <th>4</th>\n",
       "      <td>2016-01-07</td>\n",
       "      <td>5112.0</td>\n",
       "      <td>138.0</td>\n",
       "      <td>127.0</td>\n",
       "    </tr>\n",
       "  </tbody>\n",
       "</table>\n",
       "</div>"
      ],
      "text/plain": [
       "0        Date  GoldPricePerGram  LP 95  LP 92\n",
       "0  2016-01-01            4907.4  138.0  127.0\n",
       "1  2016-01-04            5025.5  138.0  127.0\n",
       "2  2016-01-05            4974.7  138.0  127.0\n",
       "3  2016-01-06            5051.7  138.0  127.0\n",
       "4  2016-01-07            5112.0  138.0  127.0"
      ]
     },
     "execution_count": 47,
     "metadata": {},
     "output_type": "execute_result"
    }
   ],
   "source": [
    "df1.head()"
   ]
  },
  {
   "cell_type": "markdown",
   "id": "909a1e4e-3f61-4124-89eb-2e55bc3a059a",
   "metadata": {},
   "source": [
    "# USD Exchange Rate"
   ]
  },
  {
   "cell_type": "code",
   "execution_count": 48,
   "id": "1d56371c-ebee-4e4e-93c9-83d4071b680c",
   "metadata": {},
   "outputs": [
    {
     "data": {
      "text/html": [
       "<div>\n",
       "<style scoped>\n",
       "    .dataframe tbody tr th:only-of-type {\n",
       "        vertical-align: middle;\n",
       "    }\n",
       "\n",
       "    .dataframe tbody tr th {\n",
       "        vertical-align: top;\n",
       "    }\n",
       "\n",
       "    .dataframe thead th {\n",
       "        text-align: right;\n",
       "    }\n",
       "</style>\n",
       "<table border=\"1\" class=\"dataframe\">\n",
       "  <thead>\n",
       "    <tr style=\"text-align: right;\">\n",
       "      <th></th>\n",
       "      <th>Date</th>\n",
       "      <th>Price</th>\n",
       "      <th>Open</th>\n",
       "      <th>High</th>\n",
       "      <th>Low</th>\n",
       "      <th>Vol.</th>\n",
       "      <th>Change %</th>\n",
       "    </tr>\n",
       "  </thead>\n",
       "  <tbody>\n",
       "    <tr>\n",
       "      <th>0</th>\n",
       "      <td>04/30/2025</td>\n",
       "      <td>299.446</td>\n",
       "      <td>299.446</td>\n",
       "      <td>299.446</td>\n",
       "      <td>299.446</td>\n",
       "      <td>NaN</td>\n",
       "      <td>-0.02%</td>\n",
       "    </tr>\n",
       "    <tr>\n",
       "      <th>1</th>\n",
       "      <td>04/29/2025</td>\n",
       "      <td>299.500</td>\n",
       "      <td>299.450</td>\n",
       "      <td>299.650</td>\n",
       "      <td>299.450</td>\n",
       "      <td>NaN</td>\n",
       "      <td>-0.03%</td>\n",
       "    </tr>\n",
       "    <tr>\n",
       "      <th>2</th>\n",
       "      <td>04/28/2025</td>\n",
       "      <td>299.600</td>\n",
       "      <td>299.550</td>\n",
       "      <td>299.775</td>\n",
       "      <td>299.475</td>\n",
       "      <td>NaN</td>\n",
       "      <td>0.00%</td>\n",
       "    </tr>\n",
       "    <tr>\n",
       "      <th>3</th>\n",
       "      <td>04/25/2025</td>\n",
       "      <td>299.600</td>\n",
       "      <td>299.800</td>\n",
       "      <td>299.850</td>\n",
       "      <td>299.450</td>\n",
       "      <td>NaN</td>\n",
       "      <td>-0.12%</td>\n",
       "    </tr>\n",
       "    <tr>\n",
       "      <th>4</th>\n",
       "      <td>04/24/2025</td>\n",
       "      <td>299.950</td>\n",
       "      <td>299.700</td>\n",
       "      <td>300.200</td>\n",
       "      <td>299.700</td>\n",
       "      <td>NaN</td>\n",
       "      <td>0.08%</td>\n",
       "    </tr>\n",
       "  </tbody>\n",
       "</table>\n",
       "</div>"
      ],
      "text/plain": [
       "         Date    Price     Open     High      Low Vol. Change %\n",
       "0  04/30/2025  299.446  299.446  299.446  299.446  NaN   -0.02%\n",
       "1  04/29/2025  299.500  299.450  299.650  299.450  NaN   -0.03%\n",
       "2  04/28/2025  299.600  299.550  299.775  299.475  NaN    0.00%\n",
       "3  04/25/2025  299.600  299.800  299.850  299.450  NaN   -0.12%\n",
       "4  04/24/2025  299.950  299.700  300.200  299.700  NaN    0.08%"
      ]
     },
     "execution_count": 48,
     "metadata": {},
     "output_type": "execute_result"
    }
   ],
   "source": [
    "dfU = pd.read_csv(r\"C:\\Users\\Dell\\OneDrive\\My_UNI\\Projects\\PrLSTM\\DataSet\\USD_LKR Historical Data.csv\")\n",
    "dfU.head()"
   ]
  },
  {
   "cell_type": "code",
   "execution_count": 49,
   "id": "af495bef-f0c4-4a99-ae96-3bc3f3fd9516",
   "metadata": {},
   "outputs": [
    {
     "data": {
      "text/plain": [
       "Index(['Date', 'Price', 'Open', 'High', 'Low', 'Vol.', 'Change %'], dtype='object')"
      ]
     },
     "execution_count": 49,
     "metadata": {},
     "output_type": "execute_result"
    }
   ],
   "source": [
    "dfU.columns"
   ]
  },
  {
   "cell_type": "code",
   "execution_count": 50,
   "id": "ad9b0faf-6632-47c2-8080-111264b63192",
   "metadata": {},
   "outputs": [],
   "source": [
    "dfU=dfU.drop(['Open', 'High', 'Low', 'Vol.', 'Change %'], axis=1)"
   ]
  },
  {
   "cell_type": "code",
   "execution_count": 51,
   "id": "2a9c9555-1a82-4f05-b3dd-c8f087072450",
   "metadata": {},
   "outputs": [],
   "source": [
    "dfU['Date']= pd.to_datetime(dfU['Date']).dt.date"
   ]
  },
  {
   "cell_type": "code",
   "execution_count": 52,
   "id": "89685ab4-d676-4782-8eaa-ba425a433217",
   "metadata": {},
   "outputs": [],
   "source": [
    "dfU.rename(columns = {'Price':'USDRate'}, inplace=True)"
   ]
  },
  {
   "cell_type": "code",
   "execution_count": 53,
   "id": "1227c2a6-94dc-42ac-923e-6b44deb28f3d",
   "metadata": {},
   "outputs": [],
   "source": [
    "dfU = dfU.sort_values('Date')"
   ]
  },
  {
   "cell_type": "code",
   "execution_count": 54,
   "id": "62b95921-6541-43ed-9bcc-cbcddab64a7a",
   "metadata": {},
   "outputs": [
    {
     "data": {
      "text/html": [
       "<div>\n",
       "<style scoped>\n",
       "    .dataframe tbody tr th:only-of-type {\n",
       "        vertical-align: middle;\n",
       "    }\n",
       "\n",
       "    .dataframe tbody tr th {\n",
       "        vertical-align: top;\n",
       "    }\n",
       "\n",
       "    .dataframe thead th {\n",
       "        text-align: right;\n",
       "    }\n",
       "</style>\n",
       "<table border=\"1\" class=\"dataframe\">\n",
       "  <thead>\n",
       "    <tr style=\"text-align: right;\">\n",
       "      <th></th>\n",
       "      <th>Date</th>\n",
       "      <th>USDRate</th>\n",
       "    </tr>\n",
       "  </thead>\n",
       "  <tbody>\n",
       "    <tr>\n",
       "      <th>2356</th>\n",
       "      <td>2016-02-01</td>\n",
       "      <td>143.880</td>\n",
       "    </tr>\n",
       "    <tr>\n",
       "      <th>2355</th>\n",
       "      <td>2016-02-02</td>\n",
       "      <td>144.085</td>\n",
       "    </tr>\n",
       "    <tr>\n",
       "      <th>2354</th>\n",
       "      <td>2016-02-03</td>\n",
       "      <td>144.250</td>\n",
       "    </tr>\n",
       "    <tr>\n",
       "      <th>2353</th>\n",
       "      <td>2016-02-04</td>\n",
       "      <td>144.020</td>\n",
       "    </tr>\n",
       "    <tr>\n",
       "      <th>2352</th>\n",
       "      <td>2016-02-05</td>\n",
       "      <td>144.090</td>\n",
       "    </tr>\n",
       "  </tbody>\n",
       "</table>\n",
       "</div>"
      ],
      "text/plain": [
       "            Date  USDRate\n",
       "2356  2016-02-01  143.880\n",
       "2355  2016-02-02  144.085\n",
       "2354  2016-02-03  144.250\n",
       "2353  2016-02-04  144.020\n",
       "2352  2016-02-05  144.090"
      ]
     },
     "execution_count": 54,
     "metadata": {},
     "output_type": "execute_result"
    }
   ],
   "source": [
    "dfU.head()"
   ]
  },
  {
   "cell_type": "code",
   "execution_count": 55,
   "id": "aacb37c6-4f04-4712-a505-4b790bacf738",
   "metadata": {},
   "outputs": [
    {
     "data": {
      "text/plain": [
       "Date       0\n",
       "USDRate    0\n",
       "dtype: int64"
      ]
     },
     "execution_count": 55,
     "metadata": {},
     "output_type": "execute_result"
    }
   ],
   "source": [
    "dfU.isnull().sum()"
   ]
  },
  {
   "cell_type": "markdown",
   "id": "c7705dec-88cc-4208-973b-8d552615d1aa",
   "metadata": {},
   "source": [
    "# Final Data = Gold + Petrol + USD Rate"
   ]
  },
  {
   "cell_type": "code",
   "execution_count": 56,
   "id": "0076235e-d935-4220-a25f-c6ea71d3e9d5",
   "metadata": {},
   "outputs": [],
   "source": [
    "df = pd.merge(df1, dfU, on='Date',how='left')"
   ]
  },
  {
   "cell_type": "code",
   "execution_count": 57,
   "id": "a767791a-63b4-4346-8133-89e6c19e81cb",
   "metadata": {},
   "outputs": [
    {
     "data": {
      "text/html": [
       "<div>\n",
       "<style scoped>\n",
       "    .dataframe tbody tr th:only-of-type {\n",
       "        vertical-align: middle;\n",
       "    }\n",
       "\n",
       "    .dataframe tbody tr th {\n",
       "        vertical-align: top;\n",
       "    }\n",
       "\n",
       "    .dataframe thead th {\n",
       "        text-align: right;\n",
       "    }\n",
       "</style>\n",
       "<table border=\"1\" class=\"dataframe\">\n",
       "  <thead>\n",
       "    <tr style=\"text-align: right;\">\n",
       "      <th></th>\n",
       "      <th>Date</th>\n",
       "      <th>GoldPricePerGram</th>\n",
       "      <th>LP 95</th>\n",
       "      <th>LP 92</th>\n",
       "      <th>USDRate</th>\n",
       "    </tr>\n",
       "  </thead>\n",
       "  <tbody>\n",
       "    <tr>\n",
       "      <th>0</th>\n",
       "      <td>2016-01-01</td>\n",
       "      <td>4907.4</td>\n",
       "      <td>138.0</td>\n",
       "      <td>127.0</td>\n",
       "      <td>NaN</td>\n",
       "    </tr>\n",
       "    <tr>\n",
       "      <th>1</th>\n",
       "      <td>2016-01-04</td>\n",
       "      <td>5025.5</td>\n",
       "      <td>138.0</td>\n",
       "      <td>127.0</td>\n",
       "      <td>NaN</td>\n",
       "    </tr>\n",
       "    <tr>\n",
       "      <th>2</th>\n",
       "      <td>2016-01-05</td>\n",
       "      <td>4974.7</td>\n",
       "      <td>138.0</td>\n",
       "      <td>127.0</td>\n",
       "      <td>NaN</td>\n",
       "    </tr>\n",
       "    <tr>\n",
       "      <th>3</th>\n",
       "      <td>2016-01-06</td>\n",
       "      <td>5051.7</td>\n",
       "      <td>138.0</td>\n",
       "      <td>127.0</td>\n",
       "      <td>NaN</td>\n",
       "    </tr>\n",
       "    <tr>\n",
       "      <th>4</th>\n",
       "      <td>2016-01-07</td>\n",
       "      <td>5112.0</td>\n",
       "      <td>138.0</td>\n",
       "      <td>127.0</td>\n",
       "      <td>NaN</td>\n",
       "    </tr>\n",
       "  </tbody>\n",
       "</table>\n",
       "</div>"
      ],
      "text/plain": [
       "         Date  GoldPricePerGram  LP 95  LP 92  USDRate\n",
       "0  2016-01-01            4907.4  138.0  127.0      NaN\n",
       "1  2016-01-04            5025.5  138.0  127.0      NaN\n",
       "2  2016-01-05            4974.7  138.0  127.0      NaN\n",
       "3  2016-01-06            5051.7  138.0  127.0      NaN\n",
       "4  2016-01-07            5112.0  138.0  127.0      NaN"
      ]
     },
     "execution_count": 57,
     "metadata": {},
     "output_type": "execute_result"
    }
   ],
   "source": [
    "df.head()"
   ]
  },
  {
   "cell_type": "code",
   "execution_count": 58,
   "id": "66d1e3bc-c665-428b-b38c-d3e0e1d676ca",
   "metadata": {},
   "outputs": [],
   "source": [
    "df[['USDRate']] = df[['USDRate']].fillna(method='ffill')"
   ]
  },
  {
   "cell_type": "code",
   "execution_count": 59,
   "id": "6c2c3aa1-a168-4289-bb57-d03b873f8ec8",
   "metadata": {},
   "outputs": [
    {
     "data": {
      "text/plain": [
       "Date                 0\n",
       "GoldPricePerGram     0\n",
       "LP 95                0\n",
       "LP 92                0\n",
       "USDRate             21\n",
       "dtype: int64"
      ]
     },
     "execution_count": 59,
     "metadata": {},
     "output_type": "execute_result"
    }
   ],
   "source": [
    "df.isnull().sum()"
   ]
  },
  {
   "cell_type": "code",
   "execution_count": 60,
   "id": "1f1aea18-22c7-4fa4-bff5-6eaba1ed2ad3",
   "metadata": {},
   "outputs": [
    {
     "data": {
      "text/html": [
       "<div>\n",
       "<style scoped>\n",
       "    .dataframe tbody tr th:only-of-type {\n",
       "        vertical-align: middle;\n",
       "    }\n",
       "\n",
       "    .dataframe tbody tr th {\n",
       "        vertical-align: top;\n",
       "    }\n",
       "\n",
       "    .dataframe thead th {\n",
       "        text-align: right;\n",
       "    }\n",
       "</style>\n",
       "<table border=\"1\" class=\"dataframe\">\n",
       "  <thead>\n",
       "    <tr style=\"text-align: right;\">\n",
       "      <th></th>\n",
       "      <th>Date</th>\n",
       "      <th>GoldPricePerGram</th>\n",
       "      <th>LP 95</th>\n",
       "      <th>LP 92</th>\n",
       "      <th>USDRate</th>\n",
       "    </tr>\n",
       "  </thead>\n",
       "  <tbody>\n",
       "    <tr>\n",
       "      <th>0</th>\n",
       "      <td>2016-01-01</td>\n",
       "      <td>4907.4</td>\n",
       "      <td>138.0</td>\n",
       "      <td>127.0</td>\n",
       "      <td>NaN</td>\n",
       "    </tr>\n",
       "    <tr>\n",
       "      <th>1</th>\n",
       "      <td>2016-01-04</td>\n",
       "      <td>5025.5</td>\n",
       "      <td>138.0</td>\n",
       "      <td>127.0</td>\n",
       "      <td>NaN</td>\n",
       "    </tr>\n",
       "    <tr>\n",
       "      <th>2</th>\n",
       "      <td>2016-01-05</td>\n",
       "      <td>4974.7</td>\n",
       "      <td>138.0</td>\n",
       "      <td>127.0</td>\n",
       "      <td>NaN</td>\n",
       "    </tr>\n",
       "    <tr>\n",
       "      <th>3</th>\n",
       "      <td>2016-01-06</td>\n",
       "      <td>5051.7</td>\n",
       "      <td>138.0</td>\n",
       "      <td>127.0</td>\n",
       "      <td>NaN</td>\n",
       "    </tr>\n",
       "    <tr>\n",
       "      <th>4</th>\n",
       "      <td>2016-01-07</td>\n",
       "      <td>5112.0</td>\n",
       "      <td>138.0</td>\n",
       "      <td>127.0</td>\n",
       "      <td>NaN</td>\n",
       "    </tr>\n",
       "    <tr>\n",
       "      <th>5</th>\n",
       "      <td>2016-01-08</td>\n",
       "      <td>5095.5</td>\n",
       "      <td>138.0</td>\n",
       "      <td>127.0</td>\n",
       "      <td>NaN</td>\n",
       "    </tr>\n",
       "    <tr>\n",
       "      <th>6</th>\n",
       "      <td>2016-01-11</td>\n",
       "      <td>5058.6</td>\n",
       "      <td>138.0</td>\n",
       "      <td>127.0</td>\n",
       "      <td>NaN</td>\n",
       "    </tr>\n",
       "    <tr>\n",
       "      <th>7</th>\n",
       "      <td>2016-01-12</td>\n",
       "      <td>5014.5</td>\n",
       "      <td>138.0</td>\n",
       "      <td>127.0</td>\n",
       "      <td>NaN</td>\n",
       "    </tr>\n",
       "    <tr>\n",
       "      <th>8</th>\n",
       "      <td>2016-01-13</td>\n",
       "      <td>5021.3</td>\n",
       "      <td>138.0</td>\n",
       "      <td>127.0</td>\n",
       "      <td>NaN</td>\n",
       "    </tr>\n",
       "    <tr>\n",
       "      <th>9</th>\n",
       "      <td>2016-01-14</td>\n",
       "      <td>5028.1</td>\n",
       "      <td>138.0</td>\n",
       "      <td>127.0</td>\n",
       "      <td>NaN</td>\n",
       "    </tr>\n",
       "    <tr>\n",
       "      <th>10</th>\n",
       "      <td>2016-01-15</td>\n",
       "      <td>5047.0</td>\n",
       "      <td>138.0</td>\n",
       "      <td>127.0</td>\n",
       "      <td>NaN</td>\n",
       "    </tr>\n",
       "    <tr>\n",
       "      <th>11</th>\n",
       "      <td>2016-01-18</td>\n",
       "      <td>5023.2</td>\n",
       "      <td>138.0</td>\n",
       "      <td>127.0</td>\n",
       "      <td>NaN</td>\n",
       "    </tr>\n",
       "    <tr>\n",
       "      <th>12</th>\n",
       "      <td>2016-01-19</td>\n",
       "      <td>5024.7</td>\n",
       "      <td>138.0</td>\n",
       "      <td>127.0</td>\n",
       "      <td>NaN</td>\n",
       "    </tr>\n",
       "    <tr>\n",
       "      <th>13</th>\n",
       "      <td>2016-01-20</td>\n",
       "      <td>5092.0</td>\n",
       "      <td>138.0</td>\n",
       "      <td>127.0</td>\n",
       "      <td>NaN</td>\n",
       "    </tr>\n",
       "    <tr>\n",
       "      <th>14</th>\n",
       "      <td>2016-01-21</td>\n",
       "      <td>5072.3</td>\n",
       "      <td>138.0</td>\n",
       "      <td>127.0</td>\n",
       "      <td>NaN</td>\n",
       "    </tr>\n",
       "    <tr>\n",
       "      <th>15</th>\n",
       "      <td>2016-01-22</td>\n",
       "      <td>5071.9</td>\n",
       "      <td>138.0</td>\n",
       "      <td>127.0</td>\n",
       "      <td>NaN</td>\n",
       "    </tr>\n",
       "    <tr>\n",
       "      <th>16</th>\n",
       "      <td>2016-01-25</td>\n",
       "      <td>5133.6</td>\n",
       "      <td>138.0</td>\n",
       "      <td>127.0</td>\n",
       "      <td>NaN</td>\n",
       "    </tr>\n",
       "    <tr>\n",
       "      <th>17</th>\n",
       "      <td>2016-01-26</td>\n",
       "      <td>5150.5</td>\n",
       "      <td>138.0</td>\n",
       "      <td>127.0</td>\n",
       "      <td>NaN</td>\n",
       "    </tr>\n",
       "    <tr>\n",
       "      <th>18</th>\n",
       "      <td>2016-01-27</td>\n",
       "      <td>5164.1</td>\n",
       "      <td>138.0</td>\n",
       "      <td>127.0</td>\n",
       "      <td>NaN</td>\n",
       "    </tr>\n",
       "    <tr>\n",
       "      <th>19</th>\n",
       "      <td>2016-01-28</td>\n",
       "      <td>5146.1</td>\n",
       "      <td>138.0</td>\n",
       "      <td>127.0</td>\n",
       "      <td>NaN</td>\n",
       "    </tr>\n",
       "    <tr>\n",
       "      <th>20</th>\n",
       "      <td>2016-01-29</td>\n",
       "      <td>5138.6</td>\n",
       "      <td>138.0</td>\n",
       "      <td>127.0</td>\n",
       "      <td>NaN</td>\n",
       "    </tr>\n",
       "  </tbody>\n",
       "</table>\n",
       "</div>"
      ],
      "text/plain": [
       "          Date  GoldPricePerGram  LP 95  LP 92  USDRate\n",
       "0   2016-01-01            4907.4  138.0  127.0      NaN\n",
       "1   2016-01-04            5025.5  138.0  127.0      NaN\n",
       "2   2016-01-05            4974.7  138.0  127.0      NaN\n",
       "3   2016-01-06            5051.7  138.0  127.0      NaN\n",
       "4   2016-01-07            5112.0  138.0  127.0      NaN\n",
       "5   2016-01-08            5095.5  138.0  127.0      NaN\n",
       "6   2016-01-11            5058.6  138.0  127.0      NaN\n",
       "7   2016-01-12            5014.5  138.0  127.0      NaN\n",
       "8   2016-01-13            5021.3  138.0  127.0      NaN\n",
       "9   2016-01-14            5028.1  138.0  127.0      NaN\n",
       "10  2016-01-15            5047.0  138.0  127.0      NaN\n",
       "11  2016-01-18            5023.2  138.0  127.0      NaN\n",
       "12  2016-01-19            5024.7  138.0  127.0      NaN\n",
       "13  2016-01-20            5092.0  138.0  127.0      NaN\n",
       "14  2016-01-21            5072.3  138.0  127.0      NaN\n",
       "15  2016-01-22            5071.9  138.0  127.0      NaN\n",
       "16  2016-01-25            5133.6  138.0  127.0      NaN\n",
       "17  2016-01-26            5150.5  138.0  127.0      NaN\n",
       "18  2016-01-27            5164.1  138.0  127.0      NaN\n",
       "19  2016-01-28            5146.1  138.0  127.0      NaN\n",
       "20  2016-01-29            5138.6  138.0  127.0      NaN"
      ]
     },
     "execution_count": 60,
     "metadata": {},
     "output_type": "execute_result"
    }
   ],
   "source": [
    "df[df.isnull().any(axis=1)]"
   ]
  },
  {
   "cell_type": "code",
   "execution_count": 61,
   "id": "0518c390-4e27-45a1-ad44-76846cdcfbc3",
   "metadata": {},
   "outputs": [],
   "source": [
    "# Jan USD Rate = 'https://www.exchangerates.org.uk/USD-LKR-spot-exchange-rates-history-2016.html'\n",
    "df.fillna(value = {'USDRate':144.00},inplace=True)"
   ]
  },
  {
   "cell_type": "code",
   "execution_count": 62,
   "id": "d529f687-8c97-4d25-8b5c-c0210a01d5b3",
   "metadata": {},
   "outputs": [
    {
     "data": {
      "text/plain": [
       "Date                0\n",
       "GoldPricePerGram    0\n",
       "LP 95               0\n",
       "LP 92               0\n",
       "USDRate             0\n",
       "dtype: int64"
      ]
     },
     "execution_count": 62,
     "metadata": {},
     "output_type": "execute_result"
    }
   ],
   "source": [
    "df.isnull().sum()"
   ]
  },
  {
   "cell_type": "code",
   "execution_count": 63,
   "id": "44576a9c-1a9a-4b85-a8de-9704b4c728cf",
   "metadata": {},
   "outputs": [
    {
     "data": {
      "text/html": [
       "<div>\n",
       "<style scoped>\n",
       "    .dataframe tbody tr th:only-of-type {\n",
       "        vertical-align: middle;\n",
       "    }\n",
       "\n",
       "    .dataframe tbody tr th {\n",
       "        vertical-align: top;\n",
       "    }\n",
       "\n",
       "    .dataframe thead th {\n",
       "        text-align: right;\n",
       "    }\n",
       "</style>\n",
       "<table border=\"1\" class=\"dataframe\">\n",
       "  <thead>\n",
       "    <tr style=\"text-align: right;\">\n",
       "      <th></th>\n",
       "      <th>Date</th>\n",
       "      <th>GoldPricePerGram</th>\n",
       "      <th>LP 95</th>\n",
       "      <th>LP 92</th>\n",
       "      <th>USDRate</th>\n",
       "    </tr>\n",
       "  </thead>\n",
       "  <tbody>\n",
       "    <tr>\n",
       "      <th>0</th>\n",
       "      <td>2016-01-01</td>\n",
       "      <td>4907.4</td>\n",
       "      <td>138.0</td>\n",
       "      <td>127.0</td>\n",
       "      <td>144.0</td>\n",
       "    </tr>\n",
       "    <tr>\n",
       "      <th>1</th>\n",
       "      <td>2016-01-04</td>\n",
       "      <td>5025.5</td>\n",
       "      <td>138.0</td>\n",
       "      <td>127.0</td>\n",
       "      <td>144.0</td>\n",
       "    </tr>\n",
       "    <tr>\n",
       "      <th>2</th>\n",
       "      <td>2016-01-05</td>\n",
       "      <td>4974.7</td>\n",
       "      <td>138.0</td>\n",
       "      <td>127.0</td>\n",
       "      <td>144.0</td>\n",
       "    </tr>\n",
       "    <tr>\n",
       "      <th>3</th>\n",
       "      <td>2016-01-06</td>\n",
       "      <td>5051.7</td>\n",
       "      <td>138.0</td>\n",
       "      <td>127.0</td>\n",
       "      <td>144.0</td>\n",
       "    </tr>\n",
       "    <tr>\n",
       "      <th>4</th>\n",
       "      <td>2016-01-07</td>\n",
       "      <td>5112.0</td>\n",
       "      <td>138.0</td>\n",
       "      <td>127.0</td>\n",
       "      <td>144.0</td>\n",
       "    </tr>\n",
       "  </tbody>\n",
       "</table>\n",
       "</div>"
      ],
      "text/plain": [
       "         Date  GoldPricePerGram  LP 95  LP 92  USDRate\n",
       "0  2016-01-01            4907.4  138.0  127.0    144.0\n",
       "1  2016-01-04            5025.5  138.0  127.0    144.0\n",
       "2  2016-01-05            4974.7  138.0  127.0    144.0\n",
       "3  2016-01-06            5051.7  138.0  127.0    144.0\n",
       "4  2016-01-07            5112.0  138.0  127.0    144.0"
      ]
     },
     "execution_count": 63,
     "metadata": {},
     "output_type": "execute_result"
    }
   ],
   "source": [
    "df.head()"
   ]
  },
  {
   "cell_type": "code",
   "execution_count": 64,
   "id": "ce4b6052-0b1c-48c7-b2a0-df59e0952744",
   "metadata": {},
   "outputs": [
    {
     "data": {
      "text/plain": [
       "(3159, 5)"
      ]
     },
     "execution_count": 64,
     "metadata": {},
     "output_type": "execute_result"
    }
   ],
   "source": [
    "df.shape"
   ]
  },
  {
   "cell_type": "code",
   "execution_count": 67,
   "id": "2a3b4895-55dc-4a2a-8f7a-536d0a2c1351",
   "metadata": {},
   "outputs": [
    {
     "data": {
      "text/plain": [
       "Index(['Date', 'GoldPricePerGram', 'LP 95', 'LP 92', 'USDRate'], dtype='object')"
      ]
     },
     "execution_count": 67,
     "metadata": {},
     "output_type": "execute_result"
    }
   ],
   "source": [
    "df.columns"
   ]
  },
  {
   "cell_type": "code",
   "execution_count": 69,
   "id": "f3e4210d-0c7b-4c19-8fcc-74cbd952f5dd",
   "metadata": {},
   "outputs": [
    {
     "data": {
      "text/plain": [
       "Date                 object\n",
       "GoldPricePerGram    float64\n",
       "LP 95                object\n",
       "LP 92                object\n",
       "USDRate             float64\n",
       "dtype: object"
      ]
     },
     "execution_count": 69,
     "metadata": {},
     "output_type": "execute_result"
    }
   ],
   "source": [
    "df.dtypes"
   ]
  },
  {
   "cell_type": "code",
   "execution_count": 70,
   "id": "959cb270-ddf5-44ce-b799-4f05eb239897",
   "metadata": {},
   "outputs": [],
   "source": [
    "col = ['LP 95', 'LP 92']\n",
    "df[col]=df[col].astype('float')"
   ]
  },
  {
   "cell_type": "code",
   "execution_count": 72,
   "id": "dc0f1456-8730-4e06-860d-85526413def8",
   "metadata": {},
   "outputs": [
    {
     "data": {
      "image/png": "[encoded data removed]",
      "text/plain": [
       "<Figure size 700x300 with 1 Axes>"
      ]
     },
     "metadata": {},
     "output_type": "display_data"
    },
    {
     "data": {
      "image/png": "[encoded data removed]",
      "text/plain": [
       "<Figure size 700x300 with 1 Axes>"
      ]
     },
     "metadata": {},
     "output_type": "display_data"
    },
    {
     "data": {
      "image/png": "[encoded data removed]",
      "text/plain": [
       "<Figure size 700x300 with 1 Axes>"
      ]
     },
     "metadata": {},
     "output_type": "display_data"
    },
    {
     "data": {
      "image/png": "[encoded data removed]",
      "text/plain": [
       "<Figure size 700x300 with 1 Axes>"
      ]
     },
     "metadata": {},
     "output_type": "display_data"
    }
   ],
   "source": [
    "numvar = ['GoldPricePerGram', 'LP 95', 'LP 92', 'USDRate']\n",
    "for i in numvar:\n",
    "    plt.figure(figsize=(7,3))\n",
    "    plt.boxplot(df[i])\n",
    "    plt.xlabel(i)\n",
    "    plt.show()"
   ]
  },
  {
   "cell_type": "markdown",
   "id": "d20873cd-1380-48dc-8aee-b5c38338a1fd",
   "metadata": {},
   "source": [
    "# Get the cleaned FINAL Data"
   ]
  },
  {
   "cell_type": "code",
   "execution_count": 65,
   "id": "d0f3c08a-67f2-4377-a482-64b18563cabf",
   "metadata": {},
   "outputs": [],
   "source": [
    "df.to_csv(\"CleanedData.csv\")"
   ]
  }
 ],
 "metadata": {
  "kernelspec": {
   "display_name": "Python 3 (ipykernel)",
   "language": "python",
   "name": "python3"
  },
  "language_info": {
   "codemirror_mode": {
    "name": "ipython",
    "version": 3
   },
   "file_extension": ".py",
   "mimetype": "text/x-python",
   "name": "python",
   "nbconvert_exporter": "python",
   "pygments_lexer": "ipython3",
   "version": "3.11.7"
  }
 },
 "nbformat": 4,
 "nbformat_minor": 5
}
